{
 "cells": [
  {
   "cell_type": "code",
   "execution_count": 1,
   "id": "e7997287",
   "metadata": {},
   "outputs": [
    {
     "name": "stdout",
     "output_type": "stream",
     "text": [
      "Twinkle,Twinkle Little Stars\n",
      "        How I Wounder What You Are\n",
      "                 Up above the world so high,\n",
      "                 Like a diamond in the sky.\n",
      "Twinkle, twinkle, little star,\n",
      "        How I wonder what you\n"
     ]
    }
   ],
   "source": [
    "'''Write a Python program to print the following string in a specific format (see the\n",
    " output)'''\n",
    "\n",
    "print(\"Twinkle,Twinkle Little Stars\")\n",
    "print(\"        How I Wounder What You Are\")\n",
    "print(\"                 Up above the world so high,\")\n",
    "print(\"                 Like a diamond in the sky.\")\n",
    "print(\"Twinkle, twinkle, little star,\")\n",
    "print(\"        How I wonder what you\")\n"
   ]
  },
  {
   "cell_type": "code",
   "execution_count": 2,
   "id": "e4491d85",
   "metadata": {},
   "outputs": [
    {
     "name": "stdout",
     "output_type": "stream",
     "text": [
      "CURRENT DATE AND TIME\n",
      "2021-10-22 22:16:36.877150\n"
     ]
    }
   ],
   "source": [
    "\"\"\"3. Write a Python program to display the current date and time.\"\"\"\n",
    "import datetime\n",
    "Time_date = datetime.datetime.now()\n",
    "print(\"CURRENT DATE AND TIME\")\n",
    "print(Time_date)"
   ]
  },
  {
   "cell_type": "code",
   "execution_count": 3,
   "id": "53507eca",
   "metadata": {},
   "outputs": [
    {
     "name": "stdout",
     "output_type": "stream",
     "text": [
      "phython version\n",
      "3.8.8 (default, Apr 13 2021, 15:08:03) [MSC v.1916 64 bit (AMD64)]\n"
     ]
    }
   ],
   "source": [
    " \"\"\"2. Write a Python program to get the Python version you are using\"\"\"\n",
    "import sys\n",
    "print(\"phython version\")\n",
    "print(sys.version)"
   ]
  },
  {
   "cell_type": "code",
   "execution_count": 4,
   "id": "091caf22",
   "metadata": {},
   "outputs": [
    {
     "name": "stdout",
     "output_type": "stream",
     "text": [
      "enter radius of circle5\n",
      "area of circle is 78.5\n"
     ]
    }
   ],
   "source": [
    "\"\"\" Write a Python program which accepts the radius of a circle from the user and compute the area.\"\"\"\n",
    "radius = int(input(\"enter radius of circle\"));\n",
    "area = 3.14*radius**2;\n",
    "print(\"area of circle is\",area)"
   ]
  },
  {
   "cell_type": "code",
   "execution_count": 5,
   "id": "5d6fa9f7",
   "metadata": {},
   "outputs": [
    {
     "name": "stdout",
     "output_type": "stream",
     "text": [
      "enter first name :asif\n",
      "enter last name :nawaz\n",
      "nawaz asif\n"
     ]
    }
   ],
   "source": [
    "\"\"\"\"Write a Python program which accepts the user's first and last name and print them in reverse order with a space between them.\"\"\"\n",
    "first_name = input(\"enter first name :\");\n",
    "last_name = input(\"enter last name :\");\n",
    "print(last_name + \" \"+first_name)"
   ]
  },
  {
   "cell_type": "code",
   "execution_count": 6,
   "id": "a6070440",
   "metadata": {},
   "outputs": [
    {
     "name": "stdout",
     "output_type": "stream",
     "text": [
      "enter value of a56\n",
      "enter value of b74\n",
      "130\n"
     ]
    }
   ],
   "source": [
    "\"\"\". Write a python program which takes two inputs from user and print them addition\"\"\"\n",
    "a = int(input(\"enter value of a\"));\n",
    "b = int(input(\"enter value of b\"));\n",
    "c = a+b;\n",
    "print(c)"
   ]
  },
  {
   "cell_type": "code",
   "execution_count": 7,
   "id": "5a34b2ee",
   "metadata": {},
   "outputs": [
    {
     "name": "stdout",
     "output_type": "stream",
     "text": [
      "enter marks of english65\n",
      "enter marks of urdu45\n",
      "enter marks of maths21\n",
      "enter marks of computer32\n",
      "enter marks of islamyat14\n",
      "total marks : 177\n",
      "percentage : 35.4\n",
      "grade E\n"
     ]
    }
   ],
   "source": [
    "\"\"\"Write a program which takes 5 inputs from user for different subject’s marks, total it\n",
    "and generate mark sheet using grades\"\"\"\n",
    "english = int(input(\"enter marks of english\"));\n",
    "urdu = int(input(\"enter marks of urdu\"));\n",
    "maths = int(input(\"enter marks of maths\"));\n",
    "computer = int(input(\"enter marks of computer\"));\n",
    "islamyat = int(input(\"enter marks of islamyat\"));\n",
    "total = english+urdu+maths+computer+islamyat\n",
    "print(\"total marks :\",total)\n",
    "percent= total/5\n",
    "print(\"percentage :\",percent)\n",
    "if percent >= 85:\n",
    "    print(\"grade A+\")\n",
    "elif percent >= 75:\n",
    "     print(\"grade A\")\n",
    "elif percent >= 65:\n",
    "     print(\"grade B\")\n",
    "elif percent >= 55:\n",
    "     print(\"grade C\")\n",
    "elif percent >= 45:\n",
    "    print(\"grade D\")\n",
    "elif percent >= 30:\n",
    "    print(\"grade E\")\n",
    "else:\n",
    "    print(\"fail\")\n",
    "    "
   ]
  },
  {
   "cell_type": "code",
   "execution_count": 8,
   "id": "ff66cce6",
   "metadata": {},
   "outputs": [
    {
     "name": "stdout",
     "output_type": "stream",
     "text": [
      "enter any number75\n",
      "75 number is odd\n"
     ]
    }
   ],
   "source": [
    "\"\"\"Write a program which take input from user and identify that the given number is even\n",
    "or odd?\"\"\"\n",
    "number = int(input(\"enter any number\"));\n",
    "if (number%2 == 0):\n",
    "    print(number,\"number is even\")\n",
    "else:\n",
    "    print(number,\"number is odd\")"
   ]
  },
  {
   "cell_type": "code",
   "execution_count": 9,
   "id": "dd89ca19",
   "metadata": {},
   "outputs": [
    {
     "name": "stdout",
     "output_type": "stream",
     "text": [
      "4\n"
     ]
    }
   ],
   "source": [
    "#9.Write a program which print the length of the list?\n",
    "list = [1,3,4,5]\n",
    "print(len(list))"
   ]
  },
  {
   "cell_type": "code",
   "execution_count": 10,
   "id": "d31de4a9",
   "metadata": {},
   "outputs": [
    {
     "name": "stdout",
     "output_type": "stream",
     "text": [
      "sum of all element in given list 73\n"
     ]
    }
   ],
   "source": [
    "\"\"\"10.Write a Python program to sum all the numeric items in a list?\"\"\"\n",
    "list = [20,12,41]\n",
    "total = sum(list)\n",
    "print(\"sum of all element in given list\",total)"
   ]
  },
  {
   "cell_type": "code",
   "execution_count": 11,
   "id": "3e566a9c",
   "metadata": {},
   "outputs": [
    {
     "data": {
      "text/plain": [
       "90"
      ]
     },
     "execution_count": 11,
     "metadata": {},
     "output_type": "execute_result"
    }
   ],
   "source": [
    "\"\"\"11.Write a Python program to get the largest number from a numeric list.\"\"\"\n",
    "list1 = [3,54,34,90,23,65,80]\n",
    "max(list1)"
   ]
  },
  {
   "cell_type": "code",
   "execution_count": 12,
   "id": "e3aeb37f",
   "metadata": {},
   "outputs": [
    {
     "name": "stdout",
     "output_type": "stream",
     "text": [
      "1\n",
      "1\n",
      "2\n",
      "3\n"
     ]
    }
   ],
   "source": [
    "\"\"\"12. Take a list, say for example this one:\n",
    "a = [1, 1, 2, 3, 5, 8, 13, 21, 34, 55, 89]\n",
    "Write a program that prints out all the elements of the list that are less than 5.\"\"\"\n",
    "a = [1, 1, 2, 3, 5, 8, 13, 21, 34, 55, 89]\n",
    "for i in a:\n",
    "    if i < 5:\n",
    "        print(i)"
   ]
  },
  {
   "cell_type": "code",
   "execution_count": null,
   "id": "7c1bfe7b",
   "metadata": {},
   "outputs": [],
   "source": []
  }
 ],
 "metadata": {
  "kernelspec": {
   "display_name": "Python 3",
   "language": "python",
   "name": "python3"
  },
  "language_info": {
   "codemirror_mode": {
    "name": "ipython",
    "version": 3
   },
   "file_extension": ".py",
   "mimetype": "text/x-python",
   "name": "python",
   "nbconvert_exporter": "python",
   "pygments_lexer": "ipython3",
   "version": "3.8.8"
  }
 },
 "nbformat": 4,
 "nbformat_minor": 5
}
